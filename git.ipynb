{
 "cells": [
  {
   "cell_type": "code",
   "execution_count": null,
   "id": "98a08a7e",
   "metadata": {},
   "outputs": [],
   "source": [
    "'''Git guidebook.'''"
   ]
  },
  {
   "cell_type": "markdown",
   "id": "6957444e",
   "metadata": {},
   "source": [
    "### Создание новых проектов Python с использованием Cookiecutter"
   ]
  },
  {
   "cell_type": "markdown",
   "id": "90fab4c0",
   "metadata": {
    "vscode": {
     "languageId": "plaintext"
    }
   },
   "source": [
    "Перед созданием репозитория git следует создать файлы для проекта Python. С этим поможет библиотека Cookiecutter, автоматические создавая все нужные файлы и папки. Чтобы установить библиотеку, необходимо выполнить команду `pip install --user cookiecutter`. Если вы не хотите добавлять команду cookiecutter в PATH, то для её запуска нужно: `python -m cookiecutter`."
   ]
  },
  {
   "cell_type": "markdown",
   "id": "e3e16b8e",
   "metadata": {
    "vscode": {
     "languageId": "plaintext"
    }
   },
   "source": [
    "### Текущая версия Git"
   ]
  },
  {
   "cell_type": "markdown",
   "id": "e973e8ca",
   "metadata": {
    "vscode": {
     "languageId": "plaintext"
    }
   },
   "source": [
    "Чтобы узнать установлен ли на вашем компьютере Git выполните команду `git --version`."
   ]
  },
  {
   "cell_type": "markdown",
   "id": "566ca7ca",
   "metadata": {
    "vscode": {
     "languageId": "plaintext"
    }
   },
   "source": [
    "### Настройка имени пользователя и адреса электронной почты"
   ]
  },
  {
   "cell_type": "markdown",
   "id": "9a12dadf",
   "metadata": {},
   "source": [
    "После установки Git необходимо задать ваше имя и адрес почты (информация об авторе) с помощью команд:\n",
    "- `git config --global user.name \"...\"`\n",
    "- `git config --global user.email ...`\n",
    "\n",
    "Эта информация хранится в файле .gitconfig, для его изменения достаточно выполнить команду `git config`. Для настройки текущей конфигурации Git используйте команду `git config --list`."
   ]
  },
  {
   "cell_type": "markdown",
   "id": "ab44c435",
   "metadata": {
    "vscode": {
     "languageId": "plaintext"
    }
   },
   "source": [
    "### Работа с Git"
   ]
  },
  {
   "cell_type": "markdown",
   "id": "d876032b",
   "metadata": {},
   "source": [
    "Работа с репозиторием Git состоит из нескольких этапов. Сначала вы создаете\n",
    "репозиторий Git командой `git init` или `git clone`. Затем файлы добавляются\n",
    "в репозиторий для отслеживания командой `git add <имя_файла>`. Наконец, после\n",
    "добавления файлов они сохраняются командой `git commit -am \"<сообщение, описывающее содержание коммита>\"` (часто называют просто «сообщение коммита»).\n",
    "Теперь все готово для внесения изменений в код.\n",
    "Вы можете просмотреть справку по каждой из этих команд командой `git help\n",
    "<команда>` — например, `git help init` или `git help add`."
   ]
  },
  {
   "cell_type": "markdown",
   "id": "db9457b8",
   "metadata": {
    "vscode": {
     "languageId": "plaintext"
    }
   },
   "source": [
    "### Как Git отслеживает статус файлов"
   ]
  },
  {
   "cell_type": "markdown",
   "id": "04c60168",
   "metadata": {
    "vscode": {
     "languageId": "plaintext"
    }
   },
   "source": [
    "На любом этапе после создания репозитория выполните команду `git status` для\n",
    "просмотра текущего статуса репозитория и состояния его файлов. Используйте команду `git commit -am command` для индексирования\n",
    "и закрепления измененных файлов на одном шаге. В этом случае файлы переходят\n",
    "из измененного состояния сразу же в чистое."
   ]
  },
  {
   "cell_type": "markdown",
   "id": "254d71e4",
   "metadata": {
    "vscode": {
     "languageId": "plaintext"
    }
   },
   "source": [
    "### Создание репозитория Git на вашем компьютере"
   ]
  },
  {
   "cell_type": "markdown",
   "id": "71896594",
   "metadata": {
    "vscode": {
     "languageId": "plaintext"
    }
   },
   "source": [
    "Когда вы превращаете папку в репозиторий Git командой `git init`, все файлы\n",
    "в ней в исходном состоянии являются неотслеживаемыми. "
   ]
  },
  {
   "cell_type": "markdown",
   "id": "b154e216",
   "metadata": {
    "vscode": {
     "languageId": "plaintext"
    }
   },
   "source": [
    "### Выполнение команды `git status` командой `watch`"
   ]
  },
  {
   "cell_type": "markdown",
   "id": "6fef1468",
   "metadata": {
    "vscode": {
     "languageId": "plaintext"
    }
   },
   "source": [
    "При использовании средств командной строки git часто приходится выполнить команду `git status` для получения информации о статусе репозитория.\n",
    "Вместо того чтобы вводить эту команду вручную, можно воспользоваться\n",
    "командой `watch`. Команда `watch` выполняет заданную команду через каждые\n",
    "две секунды и обновляет экран новыми результатами. После установки перейдите в папку проекта репозитория Git командой `cd` и выполните команду `watch \"git status\"`."
   ]
  },
  {
   "cell_type": "markdown",
   "id": "8c24acb7",
   "metadata": {
    "vscode": {
     "languageId": "plaintext"
    }
   },
   "source": [
    "### Игнорирование файлов в репозитории"
   ]
  },
  {
   "cell_type": "markdown",
   "id": "790da2e0",
   "metadata": {},
   "source": [
    "Команда `git add .` переводит все файлы из неотслеживаемого или измененного состояния в индексированное состояние. Обратите внимание: файлы, перечисленные в файле .gitignore, не включаются в индексирование. Если вы хотите видеть, какие\n",
    "файлы в вашем рабочем каталоге игнорируются на основании настроек в .gitignore,\n",
    "выполните команду `git ls-files --other --ignored --exclude-standard`."
   ]
  },
  {
   "cell_type": "markdown",
   "id": "b65e7af2",
   "metadata": {
    "vscode": {
     "languageId": "plaintext"
    }
   },
   "source": [
    "### Редактирование изменений"
   ]
  },
  {
   "cell_type": "markdown",
   "id": "3f0f9214",
   "metadata": {},
   "source": [
    "Если вы допустили ошибку в последнем сообщении коммита, его можно переписать\n",
    "командой `git commit --amend -m \"<новое_сообщение>\"`."
   ]
  },
  {
   "cell_type": "markdown",
   "id": "c1bd0700",
   "metadata": {
    "vscode": {
     "languageId": "plaintext"
    }
   },
   "source": [
    "### Просмотр изменений перед коммитом"
   ]
  },
  {
   "cell_type": "markdown",
   "id": "9a421fed",
   "metadata": {},
   "source": [
    " Для просмотра различий между\n",
    "рабочей копией кода и последним сохраненным кодом можно воспользоваться\n",
    "командой `git diff command`."
   ]
  },
  {
   "cell_type": "markdown",
   "id": "03135da3",
   "metadata": {
    "vscode": {
     "languageId": "plaintext"
    }
   },
   "source": [
    "### Просмотр изменений в графическом приложении командой git difftool"
   ]
  },
  {
   "cell_type": "markdown",
   "id": "be936788",
   "metadata": {
    "vscode": {
     "languageId": "plaintext"
    }
   },
   "source": [
    "После установки, чтобы настроить Git для использования этих программ, выполните команду `git config diff.tool <название>`, где <название> — winmerge, tkdiff, meld или kompare. \n",
    "Затем выполните команду `git difftool <имя_файла>` для просмотра изменений, \n",
    "внесенных в файл, в графическом интерфейсе программы."
   ]
  },
  {
   "cell_type": "markdown",
   "id": "932c6e8d",
   "metadata": {},
   "source": [
    "Выполните команду `git config --global difftool.prompt false`, чтобы \n",
    "система Git не запрашивала подтверждения каждый раз, когда вы хотите запустить \n",
    "программу просмотра изменений."
   ]
  },
  {
   "cell_type": "markdown",
   "id": "764af8ef",
   "metadata": {
    "vscode": {
     "languageId": "plaintext"
    }
   },
   "source": [
    "### Удаление файлов из репозитория"
   ]
  },
  {
   "cell_type": "markdown",
   "id": "2117b890",
   "metadata": {},
   "source": [
    "Если вам не нужно, чтобы какой-либо файл отслеживался в Git, вы не можете просто удалить его из файловой системы. Это необходимо сделать через Git командой\n",
    "`git rm <имя_файла>`, которая также приказывает Git перестать отслеживать файл. Файл можно восстановить командой `git restore <имя_файла>`. Команда git rm работает только с файлами, находящимися в чистом, сохраненном, \n",
    "состоянии без каких-либо изменений. В противном случае Git предложит сохранить \n",
    "изменения или отменить их командой `git reset HEAD <имя_файла>`."
   ]
  },
  {
   "cell_type": "markdown",
   "id": "65a8a009",
   "metadata": {
    "vscode": {
     "languageId": "plaintext"
    }
   },
   "source": [
    "### Переименование и перемещение файлов из репозитория"
   ]
  },
  {
   "cell_type": "markdown",
   "id": "a0368fa6",
   "metadata": {},
   "source": [
    "Как и при удалении файлов, вы не должны переименовывать или перемещать файлы \n",
    "в репозитории в обход Git. В противном случае Git решит, что вы просто удалили \n",
    "файл, и создаст новый файл с прежним содержимым. Вместо этого используйте \n",
    "команду `git mv` с последующей командой `git commit`."
   ]
  },
  {
   "cell_type": "markdown",
   "id": "a2f11916",
   "metadata": {
    "vscode": {
     "languageId": "plaintext"
    }
   },
   "source": [
    "### Просмотр журнала коммитов"
   ]
  },
  {
   "cell_type": "markdown",
   "id": "4d614483",
   "metadata": {
    "vscode": {
     "languageId": "plaintext"
    }
   },
   "source": [
    "Команда `git log` выводит список всех коммитов. Ключ --oneline усекает вывод \n",
    "до сокращенных хешей и первой строки каждого сообщения коммита. "
   ]
  },
  {
   "cell_type": "markdown",
   "id": "ec4afb87",
   "metadata": {
    "vscode": {
     "languageId": "plaintext"
    }
   },
   "source": [
    "### Деиндексирование проиндексированного файла"
   ]
  },
  {
   "cell_type": "markdown",
   "id": "b3fa8772",
   "metadata": {
    "vscode": {
     "languageId": "plaintext"
    }
   },
   "source": [
    "Если вы проиндексировали измененный файл командой `git add`, а теперь хотите \n",
    "исключить его из индексированного состояния, чтобы он не был включен в следующий коммит, выполните команду `git restore --staged <имя_файла>`."
   ]
  },
  {
   "cell_type": "markdown",
   "id": "ca2084f8",
   "metadata": {
    "vscode": {
     "languageId": "plaintext"
    }
   },
   "source": [
    "###  Отмена нескольких последних коммитов"
   ]
  },
  {
   "cell_type": "markdown",
   "id": "35e7b051",
   "metadata": {},
   "source": [
    "Допустим, вы сделали несколько бесполезных коммитов и теперь хотите вернуться \n",
    "к предыдущему коммиту. Чтобы отменить конкретное число последних коммитов \n",
    "(например, 3), используйте команду `git revert -n HEAD~3..HEAD`. Вместо 3 можно \n",
    "указать любое количество коммитов. "
   ]
  },
  {
   "cell_type": "markdown",
   "id": "a50a6959",
   "metadata": {
    "vscode": {
     "languageId": "plaintext"
    }
   },
   "source": [
    "### Возврат к конкретному коммиту для отдельного файла"
   ]
  },
  {
   "cell_type": "markdown",
   "id": "c21bc6db",
   "metadata": {},
   "source": [
    "При помощи команды `git checkout <хеш> -- <имя_файла>` можно вернуть содержимое \"eggs.py\" к этой версии и сохранить измененный файл обычным способом. \n",
    "Команда `git checkout` изменяет только рабочую копию. Вам останется только про\n",
    "индексировать и сохранить эти коррективы, как и любые другие."
   ]
  },
  {
   "cell_type": "markdown",
   "id": "55176cae",
   "metadata": {},
   "source": [
    "### Отправка существующего репозитория на GitHub"
   ]
  },
  {
   "cell_type": "markdown",
   "id": "05cb78f7",
   "metadata": {},
   "source": [
    "Команда git remote add origin `https://github.com/<пользователь_github>/wizcoin.git` добавляет GitHub как удаленный репозиторий, соответствующий вашему локальному репозиторию. После этого вы можете отправить все изменения, внесенные в локальном репозитории, в удаленный командой `git push -u origin master`. Следующие отправки из локального репозитория вы сможете осуществлять простой командой `git push`."
   ]
  },
  {
   "cell_type": "markdown",
   "id": "148cd408",
   "metadata": {},
   "source": [
    "### Клонирование существующего репозитория GitHub"
   ]
  },
  {
   "cell_type": "markdown",
   "id": "21a32343",
   "metadata": {},
   "source": [
    "Чтобы клонировать этот репозиторий на локальный компьютер, перейдите на страницу репозитория на GitHub и щелкните на кнопке Clone или Download; откроется окно с URL-адресом вида `https://github.com/<пользователь_github>/wizcoin.git`. Используйте URL-адрес своего репозитория с командой git clone, чтобы загрузить \n",
    "его на ваш компьютер: `git clone https://github.com/<пользователь_github>/wizcoin.git`."
   ]
  }
 ],
 "metadata": {
  "language_info": {
   "name": "python"
  }
 },
 "nbformat": 4,
 "nbformat_minor": 5
}
